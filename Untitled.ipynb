{
 "cells": [
  {
   "cell_type": "code",
   "execution_count": 3,
   "metadata": {},
   "outputs": [
    {
     "data": {
      "text/plain": [
       "[{'__id': 0, 'data': 'test_2', 'id': 1, 'spicy': 'no'},\n",
       " {'__id': 2, 'data': 'test_2', 'id': 3},\n",
       " {'__id': 3, 'data': 'test_2', 'id': 1, 'spicy': 'no'},\n",
       " {'__id': 5, 'data': 'test_2', 'id': 3},\n",
       " {'__id': 6, 'data': 'test_2', 'id': 1, 'spicy': 'no'},\n",
       " {'__id': 8, 'data': 'test_2', 'id': 3},\n",
       " {'__id': 9, 'data': 'test_2', 'id': 1, 'spicy': 'no'},\n",
       " {'__id': 11, 'data': 'test_2', 'id': 3},\n",
       " {'__id': 12, 'data': 'test_2', 'id': 1, 'spicy': 'no'},\n",
       " {'__id': 14, 'data': 'test_2', 'id': 3},\n",
       " {'__id': 15, 'data': 'test_2', 'id': 1, 'spicy': 'no'},\n",
       " {'__id': 17, 'data': 'test_2', 'id': 3},\n",
       " {'__id': 18, 'data': 'test_2', 'id': 1, 'spicy': 'no'},\n",
       " {'__id': 20, 'data': 'test_2', 'id': 3},\n",
       " {'__id': 21, 'data': 'test_2', 'id': 1, 'spicy': 'no'},\n",
       " {'__id': 23, 'data': 'test_2', 'id': 3},\n",
       " {'__id': 24, 'data': 'test_2', 'id': 1, 'spicy': 'no'},\n",
       " {'__id': 26, 'data': 'test_2', 'id': 3},\n",
       " {'__id': 27, 'data': 'test_2', 'id': 1, 'spicy': 'no'},\n",
       " {'__id': 29, 'data': 'test_2', 'id': 3},\n",
       " {'__id': 32, 'data': 'test_2', 'id': 1, 'spicy': 'no'},\n",
       " {'__id': 34, 'data': 'test_2', 'id': 3},\n",
       " {'__id': 35, 'data': 'test_2', 'id': 1, 'spicy': 'no'},\n",
       " {'__id': 37, 'data': 'test_2', 'id': 3},\n",
       " {'__id': 38, 'data': 'test_2', 'id': 1, 'spicy': 'no'},\n",
       " {'__id': 40, 'data': 'test_2', 'id': 3},\n",
       " {'__id': 41, 'data': 'test_2', 'id': 1, 'spicy': 'no'},\n",
       " {'__id': 43, 'data': 'test_2', 'id': 3}]"
      ]
     },
     "execution_count": 3,
     "metadata": {},
     "output_type": "execute_result"
    }
   ],
   "source": [
    "from nosqlite import nosqlite\n",
    "\n",
    "directory = '/mnt/dev/dev/pax_system_data/experiment_test_dir/'\n",
    "nosqlite.insert(source='test', filterval=None, limit=1000,setval={'data':'test_2','id':1},directory=directory)\n",
    "nosqlite.insert(source='test', filterval=None, limit=1000,setval={'data':'test_2','id':2},directory=directory)\n",
    "nosqlite.insert(source='test', filterval=None, limit=1000,setval={'data':'test_2','id':3},directory=directory)\n",
    "nosqlite.delete(source='test', filterval={'id':2}, limit=1000,directory=directory)\n",
    "nosqlite.upsert(source='test', filterval={'id':1},setval={'spicy':'no'}, limit=1000,directory=directory)\n",
    "nosqlite.find(source='test', filterval={'id':1}, limit=1000,directory=directory)\n",
    "nosqlite.delete(source='test', filterval={'id':{'$exists':False}}, limit=1000,directory=directory)\n",
    "nosqlite.find(source='test', filterval={'id':{'$exists':True}}, limit=1000,directory=directory)\n"
   ]
  },
  {
   "cell_type": "code",
   "execution_count": null,
   "metadata": {},
   "outputs": [],
   "source": []
  }
 ],
 "metadata": {
  "kernelspec": {
   "display_name": "Python 3",
   "language": "python",
   "name": "python3"
  },
  "language_info": {
   "codemirror_mode": {
    "name": "ipython",
    "version": 3
   },
   "file_extension": ".py",
   "mimetype": "text/x-python",
   "name": "python",
   "nbconvert_exporter": "python",
   "pygments_lexer": "ipython3",
   "version": "3.7.3"
  }
 },
 "nbformat": 4,
 "nbformat_minor": 4
}
